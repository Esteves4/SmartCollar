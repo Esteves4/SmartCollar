{
 "cells": [
  {
   "cell_type": "code",
   "execution_count": 1,
   "metadata": {},
   "outputs": [],
   "source": [
    "import os\n",
    "import librosa\n",
    "import librosa.display\n",
    "import numpy as np\n",
    "import pandas as pd\n",
    "import soundfile as sf"
   ]
  },
  {
   "cell_type": "code",
   "execution_count": 2,
   "metadata": {},
   "outputs": [],
   "source": [
    "audio_frame_length = 34398 # frame lenght for 1 sec audio\n",
    "\n",
    "def sample_audio(file_name):\n",
    "    audio, sample_rate = librosa.load(file_name, res_type='kaiser_fast') \n",
    "    \n",
    "    if(audio.shape[0] < audio_frame_length):\n",
    "        return []\n",
    "\n",
    "    frames = librosa.util.frame(audio, frame_length=audio_frame_length, hop_length=audio_frame_length, axis=0)\n",
    "    \n",
    "    filename_split = file_name.split('.')\n",
    "    \n",
    "    index = 1\n",
    "    \n",
    "    names = []\n",
    "    \n",
    "    for row in frames:\n",
    "        new_filename = \".\" + filename_split[1] + \"_\" + str(index) + \"_.\" + filename_split[2]\n",
    "        sf.write(new_filename, row, sample_rate)\n",
    "        index += 1\n",
    "        names.append(new_filename)\n",
    "        \n",
    "    return names"
   ]
  },
  {
   "cell_type": "code",
   "execution_count": 3,
   "metadata": {},
   "outputs": [
    {
     "name": "stdout",
     "output_type": "stream",
     "text": [
      "Finished audio sampling extraction\n"
     ]
    }
   ],
   "source": [
    "# Read csv file  for train csv\n",
    "train_filename = pd.read_csv(\"train.csv\")\n",
    "\n",
    "train_filename = train_filename[(train_filename.manually_verified == 1)]\n",
    "\n",
    "new_train_filename = []\n",
    "\n",
    "# Iterate through each sound file and sample the sound files in 2sec\n",
    "for index, row in train_filename.iterrows():\n",
    "    \n",
    "    file_name_train = \"./audio_train/\" + str(row[\"fname\"])\n",
    "\n",
    "    new_samples = sample_audio(file_name_train)\n",
    "            \n",
    "    for fname in new_samples:\n",
    "        train_filename[train_filename.fname == row[\"fname\"]] = None\n",
    "        fname_split = fname.split('/')\n",
    "        new_train_filename.append([fname_split[2], row[\"label\"], row[\"manually_verified\"]])\n",
    "                                  \n",
    "new_train_filename = pd.DataFrame(new_train_filename, columns=['fname','label', 'manually_verified'])                                   \n",
    "new_train_filename = train_filename.append(new_train_filename)\n",
    "new_train_filename = new_train_filename.dropna()\n",
    "new_train_filename.to_csv(\"new_train.csv\",index=False)                                 \n",
    "                                   \n",
    "    \n",
    "print('Finished audio sampling extraction')"
   ]
  },
  {
   "cell_type": "code",
   "execution_count": 3,
   "metadata": {},
   "outputs": [
    {
     "name": "stdout",
     "output_type": "stream",
     "text": [
      "Finished audio sampling extraction\n"
     ]
    }
   ],
   "source": [
    "# Read csv file for test csv\n",
    "test_filename = pd.read_csv(\"test_post_competition.csv\")\n",
    "\n",
    "test_filename = test_filename[(test_filename.label != \"None\")]\n",
    "\n",
    "new_test_filename = []\n",
    "\n",
    "# Iterate through each sound file and sample the sound files in 2sec\n",
    "for index, row in test_filename.iterrows():\n",
    "    \n",
    "    file_name_test = \"./audio_test/\" + str(row[\"fname\"])\n",
    "\n",
    "    new_samples = sample_audio(file_name_test)\n",
    "            \n",
    "    for fname in new_samples:\n",
    "        test_filename[test_filename.fname == row[\"fname\"]] = None\n",
    "        fname_split = fname.split('/')\n",
    "        new_test_filename.append([fname_split[2], row[\"label\"], row[\"usage\"], row[\"freesound_id\"], row[\"license\"]])\n",
    "                                  \n",
    "new_test_filename = pd.DataFrame(new_test_filename, columns=['fname','label', 'usage', 'freesound_id', 'license'])                                   \n",
    "new_test_filename = test_filename.append(new_test_filename)\n",
    "new_test_filename = new_test_filename.dropna()\n",
    "new_test_filename.to_csv(\"new_test_post_competition.csv\",index=False)                                 \n",
    "                                   \n",
    "    \n",
    "print('Finished audio sampling extraction')"
   ]
  },
  {
   "cell_type": "code",
   "execution_count": 109,
   "metadata": {},
   "outputs": [
    {
     "data": {
      "text/html": [
       "<div>\n",
       "<style scoped>\n",
       "    .dataframe tbody tr th:only-of-type {\n",
       "        vertical-align: middle;\n",
       "    }\n",
       "\n",
       "    .dataframe tbody tr th {\n",
       "        vertical-align: top;\n",
       "    }\n",
       "\n",
       "    .dataframe thead th {\n",
       "        text-align: right;\n",
       "    }\n",
       "</style>\n",
       "<table border=\"1\" class=\"dataframe\">\n",
       "  <thead>\n",
       "    <tr style=\"text-align: right;\">\n",
       "      <th></th>\n",
       "      <th>fname</th>\n",
       "      <th>label</th>\n",
       "      <th>manually_verified</th>\n",
       "    </tr>\n",
       "  </thead>\n",
       "  <tbody>\n",
       "    <tr>\n",
       "      <th>1</th>\n",
       "      <td>None</td>\n",
       "      <td>None</td>\n",
       "      <td>NaN</td>\n",
       "    </tr>\n",
       "    <tr>\n",
       "      <th>3</th>\n",
       "      <td>None</td>\n",
       "      <td>None</td>\n",
       "      <td>NaN</td>\n",
       "    </tr>\n",
       "    <tr>\n",
       "      <th>4</th>\n",
       "      <td>None</td>\n",
       "      <td>None</td>\n",
       "      <td>NaN</td>\n",
       "    </tr>\n",
       "    <tr>\n",
       "      <th>6</th>\n",
       "      <td>None</td>\n",
       "      <td>None</td>\n",
       "      <td>NaN</td>\n",
       "    </tr>\n",
       "    <tr>\n",
       "      <th>7</th>\n",
       "      <td>None</td>\n",
       "      <td>None</td>\n",
       "      <td>NaN</td>\n",
       "    </tr>\n",
       "    <tr>\n",
       "      <th>...</th>\n",
       "      <td>...</td>\n",
       "      <td>...</td>\n",
       "      <td>...</td>\n",
       "    </tr>\n",
       "    <tr>\n",
       "      <th>9460</th>\n",
       "      <td>None</td>\n",
       "      <td>None</td>\n",
       "      <td>NaN</td>\n",
       "    </tr>\n",
       "    <tr>\n",
       "      <th>9461</th>\n",
       "      <td>None</td>\n",
       "      <td>None</td>\n",
       "      <td>NaN</td>\n",
       "    </tr>\n",
       "    <tr>\n",
       "      <th>9462</th>\n",
       "      <td>None</td>\n",
       "      <td>None</td>\n",
       "      <td>NaN</td>\n",
       "    </tr>\n",
       "    <tr>\n",
       "      <th>9463</th>\n",
       "      <td>None</td>\n",
       "      <td>None</td>\n",
       "      <td>NaN</td>\n",
       "    </tr>\n",
       "    <tr>\n",
       "      <th>9472</th>\n",
       "      <td>None</td>\n",
       "      <td>None</td>\n",
       "      <td>NaN</td>\n",
       "    </tr>\n",
       "  </tbody>\n",
       "</table>\n",
       "<p>3710 rows × 3 columns</p>\n",
       "</div>"
      ],
      "text/plain": [
       "     fname label  manually_verified\n",
       "1     None  None                NaN\n",
       "3     None  None                NaN\n",
       "4     None  None                NaN\n",
       "6     None  None                NaN\n",
       "7     None  None                NaN\n",
       "...    ...   ...                ...\n",
       "9460  None  None                NaN\n",
       "9461  None  None                NaN\n",
       "9462  None  None                NaN\n",
       "9463  None  None                NaN\n",
       "9472  None  None                NaN\n",
       "\n",
       "[3710 rows x 3 columns]"
      ]
     },
     "execution_count": 109,
     "metadata": {},
     "output_type": "execute_result"
    }
   ],
   "source": [
    "train_filename"
   ]
  },
  {
   "cell_type": "code",
   "execution_count": null,
   "metadata": {},
   "outputs": [],
   "source": []
  },
  {
   "cell_type": "code",
   "execution_count": null,
   "metadata": {},
   "outputs": [],
   "source": []
  }
 ],
 "metadata": {
  "kernelspec": {
   "display_name": "Python 3",
   "language": "python",
   "name": "python3"
  },
  "language_info": {
   "codemirror_mode": {
    "name": "ipython",
    "version": 3
   },
   "file_extension": ".py",
   "mimetype": "text/x-python",
   "name": "python",
   "nbconvert_exporter": "python",
   "pygments_lexer": "ipython3",
   "version": "3.7.9"
  }
 },
 "nbformat": 4,
 "nbformat_minor": 4
}
